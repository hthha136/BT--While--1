{
 "cells": [
  {
   "cell_type": "code",
   "execution_count": null,
   "id": "e8514b7a",
   "metadata": {},
   "outputs": [],
   "source": [
    "import turtle\n",
    "t = turtle.Turtle()\n",
    "t.speed(0)\n",
    "\n",
    "# vẽ hình tròn\n",
    "\n",
    "t.pensize(2)\n",
    "t.pencolor (\"black\")\n",
    "\n",
    "a = input('nhập a: ')\n",
    "i = 0.2\n",
    "while True:\n",
    " t.forward(i)\n",
    " t.left(1)\n",
    " i += 0.001\n",
    " \n",
    " if i > a:\n",
    "   break"
   ]
  }
 ],
 "metadata": {
  "kernelspec": {
   "display_name": "Python 3 (ipykernel)",
   "language": "python",
   "name": "python3"
  },
  "language_info": {
   "codemirror_mode": {
    "name": "ipython",
    "version": 3
   },
   "file_extension": ".py",
   "mimetype": "text/x-python",
   "name": "python",
   "nbconvert_exporter": "python",
   "pygments_lexer": "ipython3",
   "version": "3.10.4"
  }
 },
 "nbformat": 4,
 "nbformat_minor": 5
}
